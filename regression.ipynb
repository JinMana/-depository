{
 "cells": [
  {
   "cell_type": "code",
   "execution_count": 1,
   "metadata": {},
   "outputs": [],
   "source": [
    "import numpy as np\n",
    "import pandas as pd\n",
    "from numpy import *\n",
    "import matplotlib.pyplot as plt"
   ]
  },
  {
   "cell_type": "code",
   "execution_count": 2,
   "metadata": {},
   "outputs": [],
   "source": [
    "def load_data():\n",
    "    dataMat = []\n",
    "    dataLabel = []\n",
    "    \n",
    "    #按空格分开\n",
    "    file = pd.read_csv(\"ex0.txt\", header=None, sep=\"\\t\")\n",
    "    dataMat = np.array(file[[0,1]])\n",
    "    dataLabel = np.array(file[[2]])\n",
    "    #111\n",
    "    return dataMat, dataLabel"
   ]
  },
  {
   "cell_type": "markdown",
   "metadata": {},
   "source": [
    "普通线性"
   ]
  },
  {
   "cell_type": "code",
   "execution_count": 3,
   "metadata": {},
   "outputs": [],
   "source": [
    "#判断是否能求逆运算\n",
    "def standRegression(dataMat, dataLabel):\n",
    "    x = np.mat(dataMat)\n",
    "    y = np.mat(dataLabel).T\n",
    "    xTx = x.T * x\n",
    "    if linalg.det(xTx) == 0.0:\n",
    "        print(\"cannot inverse\")\n",
    "        return \n",
    "    ws = xTx.I * (x.T* y.T)  #计算权重\n",
    "    return ws"
   ]
  },
  {
   "cell_type": "code",
   "execution_count": 4,
   "metadata": {},
   "outputs": [],
   "source": [
    "dataMat, dataLabel = load_data()\n",
    "ws = standRegression(dataMat, dataLabel)"
   ]
  },
  {
   "cell_type": "code",
   "execution_count": 5,
   "metadata": {},
   "outputs": [
    {
     "data": {
      "image/png": "[encoded data removed]",
      "text/plain": [
       "<Figure size 432x288 with 1 Axes>"
      ]
     },
     "metadata": {
      "needs_background": "light"
     },
     "output_type": "display_data"
    }
   ],
   "source": [
    "dataMat = np.mat(dataMat)\n",
    "dataLabel = np.mat(dataLabel)\n",
    "fig = plt.figure()\n",
    "ax = fig.add_subplot(111)\n",
    "ax.scatter(dataMat[:,1].flatten().A[0], dataLabel[:,0].flatten().A[0])\n",
    "dataMat2 = dataMat.copy()\n",
    "dataMat2.sort(0)\n",
    "yy = dataMat2*ws   #预测值\n",
    "ax.plot(dataMat2[:,1], yy)\n",
    "plt.show()"
   ]
  },
  {
   "cell_type": "code",
   "execution_count": 6,
   "metadata": {},
   "outputs": [
    {
     "data": {
      "text/plain": [
       "array([[1.        , 0.13653777],\n",
       "       [0.13653777, 1.        ]])"
      ]
     },
     "execution_count": 6,
     "metadata": {},
     "output_type": "execute_result"
    }
   ],
   "source": [
    "#计算预测值和真实值之间的相关性\n",
    "np.corrcoef(yy.T, dataLabel.T)"
   ]
  },
  {
   "cell_type": "raw",
   "metadata": {},
   "source": [
    "线性回归容易出现欠拟合的情况\n",
    "改进：局部加权。给定空间的点，赋予其他店不同的权重"
   ]
  },
  {
   "cell_type": "markdown",
   "metadata": {},
   "source": [
    "局部加权回归"
   ]
  },
  {
   "cell_type": "code",
   "execution_count": 7,
   "metadata": {},
   "outputs": [],
   "source": [
    "def lwlr(testpoint, dataMat, dataLabel, k=1.0):\n",
    "    dataMat = np.mat(dataMat)\n",
    "    dataLabel = np.mat(dataLabel).T\n",
    "    m, n = dataMat.shape\n",
    "    weights = np.eye(m)   #中间为1的对角矩阵\n",
    "    for i in range(m):\n",
    "        #要计算的点和其他点的差\n",
    "        diff = testpoint - dataMat[i,:]\n",
    "        #采用高斯定义函数\n",
    "        weights[i][i] = np.exp(diff*diff.T / (-2.0*k**2))\n",
    "    #某个点，然后其他点的权重\n",
    "    xTx = dataMat.T*weights*dataMat   #(n,m)(m,m)(m, 1) = (2,2)\n",
    "    \n",
    "    if np.linalg.det(xTx) == 0.0:\n",
    "        print(\"not inverse\")\n",
    "        return \n",
    "    ws = xTx.I * (dataMat.T * (weights * dataLabel.T))\n",
    "    return testpoint * ws"
   ]
  },
  {
   "cell_type": "code",
   "execution_count": 8,
   "metadata": {},
   "outputs": [],
   "source": [
    "def lwlrtest(testarr, dataMat, dataLabel, k=1.0):\n",
    "    m = testarr.shape[0]\n",
    "    y = np.zeros(m)\n",
    "    for i in range(m):\n",
    "        y[i] = lwlr(testarr[i], dataMat, dataLabel, k)\n",
    "    return y"
   ]
  },
  {
   "cell_type": "code",
   "execution_count": 9,
   "metadata": {},
   "outputs": [
    {
     "data": {
      "text/plain": [
       "matrix([[3.12204471]])"
      ]
     },
     "execution_count": 9,
     "metadata": {},
     "output_type": "execute_result"
    }
   ],
   "source": [
    "dataMat, dataLabel = load_data()\n",
    "lwlr(dataMat[0], dataMat, dataLabel, k=1.0)"
   ]
  },
  {
   "cell_type": "code",
   "execution_count": 10,
   "metadata": {},
   "outputs": [],
   "source": [
    "#进行预测\n",
    "result = lwlrtest(dataMat, dataMat, dataLabel, k=0.003)\n",
    "result2 = lwlrtest(dataMat, dataMat, dataLabel, k=1.0)\n",
    "result3 = lwlrtest(dataMat, dataMat, dataLabel, k=0.05)"
   ]
  },
  {
   "cell_type": "code",
   "execution_count": 11,
   "metadata": {},
   "outputs": [],
   "source": [
    "dataMat = np.mat(dataMat)\n",
    "#进行排序后得到小标\n",
    "index_id = dataMat[:, 1].argsort(0)\n",
    "s_sort = dataMat[index_id][:,0,:]"
   ]
  },
  {
   "cell_type": "code",
   "execution_count": 12,
   "metadata": {},
   "outputs": [
    {
     "data": {
      "image/png": "[encoded data removed]",
      "text/plain": [
       "<Figure size 432x288 with 1 Axes>"
      ]
     },
     "metadata": {
      "needs_background": "light"
     },
     "output_type": "display_data"
    }
   ],
   "source": [
    "#画图\n",
    "# k=0.003会出现过拟合的情况\n",
    "fig = plt.figure()\n",
    "ax = fig.add_subplot(111)\n",
    "dataLabel = np.mat(dataLabel)\n",
    "ax.plot(s_sort[:,1], result[index_id], c='black')\n",
    "ax.scatter(dataMat[:,1].flatten().A[0], dataLabel[:,0].flatten().A[0], s=2, c='red')\n",
    "plt.show()"
   ]
  },
  {
   "cell_type": "code",
   "execution_count": 13,
   "metadata": {},
   "outputs": [
    {
     "data": {
      "image/png": "[encoded data removed]",
      "text/plain": [
       "<Figure size 432x288 with 1 Axes>"
      ]
     },
     "metadata": {
      "needs_background": "light"
     },
     "output_type": "display_data"
    }
   ],
   "source": [
    "#k=1会出现欠拟合的情况\n",
    "fig = plt.figure()\n",
    "ax = fig.add_subplot(111)\n",
    "dataLabel = np.mat(dataLabel)\n",
    "ax.plot(s_sort[:,1], result2[index_id], c='black')\n",
    "ax.scatter(dataMat[:,1].flatten().A[0], dataLabel[:,0].flatten().A[0], s=2, c='red')\n",
    "plt.show()"
   ]
  },
  {
   "cell_type": "code",
   "execution_count": 14,
   "metadata": {},
   "outputs": [
    {
     "data": {
      "image/png": "[encoded data removed]",
      "text/plain": [
       "<Figure size 432x288 with 1 Axes>"
      ]
     },
     "metadata": {
      "needs_background": "light"
     },
     "output_type": "display_data"
    }
   ],
   "source": [
    "#k=0.05较为合适\n",
    "fig = plt.figure()\n",
    "ax = fig.add_subplot(111)\n",
    "dataLabel = np.mat(dataLabel)\n",
    "ax.plot(s_sort[:,1], result3[index_id], c='black')\n",
    "ax.scatter(dataMat[:,1].flatten().A[0], dataLabel[:,0].flatten().A[0], s=2, c='red')\n",
    "plt.show()"
   ]
  },
  {
   "cell_type": "markdown",
   "metadata": {},
   "source": [
    "岭回归"
   ]
  },
  {
   "cell_type": "code",
   "execution_count": 15,
   "metadata": {},
   "outputs": [],
   "source": [
    "def load_data():\n",
    "    dataMat = []\n",
    "    dataLabel = []\n",
    "    \n",
    "    #按空格分开\n",
    "    file = pd.read_csv(\"abalone.txt\", header=None, sep=\"\\t\")\n",
    "    dataMat = np.array(file[[0,1]])\n",
    "    dataLabel = np.array(file[[2]])\n",
    "    #111\n",
    "    return dataMat, dataLabel"
   ]
  },
  {
   "cell_type": "code",
   "execution_count": 16,
   "metadata": {},
   "outputs": [],
   "source": [
    "def ridgeRegression(xmat, ymat, lam=0.2):\n",
    "    xTx = xmat.T * xmat\n",
    "    #xtx + lam*I\n",
    "    demo = xTx + np.eye(xmat.shape[1]) * lam\n",
    "    \n",
    "    #判断是否可逆\n",
    "    if np.linalg.det(demo) == 0.0:\n",
    "        print(\"not inverse\")\n",
    "        return \n",
    "    #demo*x*y\n",
    "    ws = demo * xmat.T * ymat\n",
    "    return ws"
   ]
  },
  {
   "cell_type": "code",
   "execution_count": 17,
   "metadata": {},
   "outputs": [],
   "source": [
    "def ridge_test(xarr, yarr):\n",
    "    xarr = np.mat(xarr)\n",
    "    yarr = np.mat(yarr)\n",
    "    \n",
    "    #将x，y进行标准化\n",
    "    x_mean = np.mean(xarr, 0)\n",
    "    x_var = np.var(xarr, 0)\n",
    "    xmat = (xarr - x_mean) / x_var\n",
    "    \n",
    "    y_mean = np.mean(yarr, 0)\n",
    "    ymat = yarr - y_mean\n",
    "    \n",
    "    num_test = 30\n",
    "    \n",
    "    wmat = np.zeros((num_test, xmat.shape[1]))\n",
    "    #循环30次不同的lam对w的影响，保存不同的w\n",
    "    for i in range(num_test):\n",
    "        ws = ridgeRegression(xmat, ymat, np.exp(i-10))\n",
    "        wmat[i,:] = ws.T\n",
    "    return wmat"
   ]
  },
  {
   "cell_type": "code",
   "execution_count": 18,
   "metadata": {},
   "outputs": [],
   "source": [
    "xmat, ymat = load_data()\n",
    "wmat = ridge_test(xmat, ymat)"
   ]
  },
  {
   "cell_type": "code",
   "execution_count": 19,
   "metadata": {},
   "outputs": [
    {
     "data": {
      "text/plain": [
       "(30, 2)"
      ]
     },
     "execution_count": 19,
     "metadata": {},
     "output_type": "execute_result"
    }
   ],
   "source": [
    "wmat.shape"
   ]
  },
  {
   "cell_type": "code",
   "execution_count": 20,
   "metadata": {},
   "outputs": [
    {
     "data": {
      "image/png": "[encoded data removed]",
      "text/plain": [
       "<Figure size 432x288 with 1 Axes>"
      ]
     },
     "metadata": {
      "needs_background": "light"
     },
     "output_type": "display_data"
    }
   ],
   "source": [
    "fig = plt.figure()\n",
    "ax = fig.add_subplot(111)\n",
    "ax.plot(wmat)\n",
    "plt.show()"
   ]
  },
  {
   "cell_type": "markdown",
   "metadata": {},
   "source": [
    "lasso回归"
   ]
  },
  {
   "cell_type": "raw",
   "metadata": {},
   "source": [
    "采用前向逐步回归可以得到和lasso回归类似效果\n",
    "即权重每次增加一点"
   ]
  },
  {
   "cell_type": "code",
   "execution_count": 69,
   "metadata": {},
   "outputs": [],
   "source": [
    "def calerr(yarr, yhat):\n",
    "    '''\n",
    "    计算误差\n",
    "    '''\n",
    "    return sum((yarr - yhat)**2)"
   ]
  },
  {
   "cell_type": "code",
   "execution_count": 70,
   "metadata": {},
   "outputs": [],
   "source": [
    "def stagew(xarr, yarr, eps=0.01, numit=100):\n",
    "    #标准化\n",
    "    xmat = np.mat(xarr)\n",
    "    x_mean = np.mean(xmat, 0)\n",
    "    x_var = np.var(xmat, 0)\n",
    "    xmat = (xmat - x_mean) / x_var\n",
    "    \n",
    "    ymat = np.mat(yarr).T\n",
    "    y_mean = np.mean(ymat, 0)\n",
    "    ymat = ymat - y_mean\n",
    "    \n",
    "    m,n = xmat.shape\n",
    "    \n",
    "    #初始化权重\n",
    "    ws = np.zeros((n,1))   #真正权重\n",
    "    returnmat = np.zeros((numit, n))      #每一次迭代的权重\n",
    "    \n",
    "    wstest = ws.copy()     #用于存放每一次迭代的权重\n",
    "    wsmax = ws.copy()      \n",
    "    \n",
    "    low_error  = np.float('inf')\n",
    "    #迭代次数\n",
    "    for i in range(numit):\n",
    "        #初始化最小的错误\n",
    "#         low_error  = np.float('inf')\n",
    "#         print(ws.T)\n",
    "        \n",
    "        #遍历每一列，获取每一列的不同权重\n",
    "        for j in range(n):\n",
    "            for sign  in [-1, 1]:     #权重是+还是-\n",
    "                wstest[j] += eps*sign\n",
    "                \n",
    "                \n",
    "                #计算在这个权重下的yhat\n",
    "                y_test = xmat * wstest  #(m, n) (1,n)\n",
    "                #计算误差\n",
    "                error = calerr(y_test, ymat)\n",
    "                print(wstest[j])\n",
    "                print(error)\n",
    "                \n",
    "                #如果误差小于当前的最小误差，该误差变为最小误差\n",
    "                if error < low_error:\n",
    "                    low_error = error\n",
    "                    wsmax = wstest.copy()\n",
    "        #获取到所有列的权重，即确定了当前所有误差\n",
    "        ws = wsmax.copy()\n",
    "        print(ws)\n",
    "        returnmat[i,:]  = ws.T\n",
    "    return returnmat"
   ]
  },
  {
   "cell_type": "code",
   "execution_count": null,
   "metadata": {},
   "outputs": [],
   "source": [
    "xarr, yarr = load_data()\n",
    "stagew(xarr, yarr, eps=0.01, numit=200)"
   ]
  },
  {
   "cell_type": "code",
   "execution_count": null,
   "metadata": {},
   "outputs": [],
   "source": [
    "ws[0,2]"
   ]
  },
  {
   "cell_type": "code",
   "execution_count": 59,
   "metadata": {},
   "outputs": [
    {
     "data": {
      "text/plain": [
       "array([[0.365],\n",
       "       [0.265],\n",
       "       [0.42 ],\n",
       "       ...,\n",
       "       [0.475],\n",
       "       [0.485],\n",
       "       [0.555]])"
      ]
     },
     "execution_count": 59,
     "metadata": {},
     "output_type": "execute_result"
    }
   ],
   "source": [
    "yarr"
   ]
  },
  {
   "cell_type": "code",
   "execution_count": null,
   "metadata": {},
   "outputs": [],
   "source": []
  }
 ],
 "metadata": {
  "kernelspec": {
   "display_name": "Python 3",
   "language": "python",
   "name": "python3"
  },
  "language_info": {
   "codemirror_mode": {
    "name": "ipython",
    "version": 3
   },
   "file_extension": ".py",
   "mimetype": "text/x-python",
   "name": "python",
   "nbconvert_exporter": "python",
   "pygments_lexer": "ipython3",
   "version": "3.7.0"
  }
 },
 "nbformat": 4,
 "nbformat_minor": 2
}
