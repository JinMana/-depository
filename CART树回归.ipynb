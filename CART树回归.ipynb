{
 "cells": [
  {
   "cell_type": "markdown",
   "metadata": {},
   "source": [
    "CART是用二元切分来处理连续型特征"
   ]
  },
  {
   "cell_type": "raw",
   "metadata": {},
   "source": [
    "1、预剪枝，也是前剪枝，通过设置阈值、节点数、误差大小来控制枝的多少\n",
    "  缺点：需要提前设置阈值"
   ]
  },
  {
   "cell_type": "code",
   "execution_count": 1,
   "metadata": {},
   "outputs": [
    {
     "name": "stderr",
     "output_type": "stream",
     "text": [
      "D:\\Anaconda\\lib\\site-packages\\ipykernel\\parentpoller.py:116: UserWarning: Parent poll failed.  If the frontend dies,\n",
      "                the kernel may be left running.  Please let us know\n",
      "                about your system (bitness, Python, etc.) at\n",
      "                ipython-dev@scipy.org\n",
      "  ipython-dev@scipy.org\"\"\")\n"
     ]
    }
   ],
   "source": [
    "import numpy as np\n",
    "import pandas as pd"
   ]
  },
  {
   "cell_type": "code",
   "execution_count": 56,
   "metadata": {},
   "outputs": [],
   "source": [
    "def load_data():\n",
    "    dataMat = []\n",
    "    dataLabel = []\n",
    "    \n",
    "    #按空格分开\n",
    "    dataMat = pd.read_csv(\"ex0.txt\", header=None, sep=\"\\s+\")\n",
    "    #111\n",
    "    return dataMat"
   ]
  },
  {
   "cell_type": "code",
   "execution_count": 77,
   "metadata": {},
   "outputs": [],
   "source": [
    "def binsplitdata(dataset, feature, value):\n",
    "    '''\n",
    "    某个特征 》 value 就在mat0\n",
    "    某个特征 《 value 就在mat1\n",
    "    '''\n",
    "    #np.nonzero获取非0的下标\n",
    "    \n",
    "    #这里不进行转换时，最后一次迭代的dataset的类型会自动变成list类型\n",
    "    dataset = np.mat(dataset)  \n",
    "    \n",
    "    #mat0, mat1 = binsplitdata(dataMat, 1, 0.44181499999999996)\n",
    "    mat0 = dataset[np.nonzero(dataset[:, feature] > value)[0], :]\n",
    "    mat1 = dataset[np.nonzero(dataset[:, feature] <= value)[0], :]\n",
    "    return mat0, mat1"
   ]
  },
  {
   "cell_type": "code",
   "execution_count": 78,
   "metadata": {},
   "outputs": [],
   "source": [
    "def regLeaf(dataset):\n",
    "    return np.mean(dataset[:,-1])\n",
    "\n",
    "def regErr(dataset):\n",
    "    return np.var(dataset[:,-1])* dataset.shape[0]   #标签方差*m\n",
    "\n",
    "def choosebestsplit(dataset, leafType, errType, ops):\n",
    "    '''\n",
    "    用于获取特征和阈值\n",
    "    ops是规定了每个分支的最多的节点\n",
    "    '''\n",
    "    tolN = ops[1]    #每个分支最多有4个节点\n",
    "    tolS = ops[0]   #误差容忍值\n",
    "    \n",
    "    dataset = np.mat(dataset)\n",
    "    #np.set(dataset[:, -1].T.tolist()[0])获取label的唯一值，如果都是1，那么就退出\n",
    "    if len(set(dataset[:, -1].T.tolist()[0])) == 1:\n",
    "        return None, leafType(dataset)   #求dataset均值\n",
    "    \n",
    "    S = errType(dataset)   #结果方差之和\n",
    "    \n",
    "    #最好的方差初始化\n",
    "    bestS = np.float('inf')\n",
    "    \n",
    "    best_index = 0\n",
    "    best_value = 0\n",
    "    \n",
    "    m, n = dataset.shape\n",
    "    #获取每个特征\n",
    "    for i in range(n - 1):          #最后一个label\n",
    "        #val是每个特征的所有值中的一个\n",
    "        for val in set(dataset[:, i].flat):\n",
    "            mat0, mat1 = binsplitdata(dataset, i, val)\n",
    "            if(mat0.shape[0]  < tolN) or (mat1.shape[0] < tolN):\n",
    "                continue\n",
    "            #计算切分后的误差\n",
    "            newS = errType(mat0) + errType(mat1)\n",
    "            \n",
    "            if newS < bestS:\n",
    "                #最小损失更新\n",
    "                bestS = newS\n",
    "                best_index = i\n",
    "                best_value = val\n",
    "#     print(\"00000000000000\")            \n",
    "#     print(bestS)\n",
    "#     print(S-bestS)\n",
    "    if(S - bestS) < tolS:\n",
    "        #切分前后的误差小于tolS，不需要切分，直接作为叶子节点\n",
    "        return None, leafType(dataset)\n",
    "    \n",
    "#     print(\"kkkkkkkkkkkkkk\")\n",
    "#     print(best_index)\n",
    "#     print(best_value)\n",
    "    #用1 和0.44181499999999996再分\n",
    "    mat0, mat1 = binsplitdata(dataset, best_index, best_value)\n",
    "#     print(mat0.shape[0])\n",
    "#     print(mat1.shape[0])\n",
    "    \n",
    "    if(mat0.shape[0] < tolN)  or (mat1.shape[0] < tolN):\n",
    "        #不满足最小的切分条件\n",
    "        return None, leafType(dataset)\n",
    "    return best_index, best_value"
   ]
  },
  {
   "cell_type": "code",
   "execution_count": 79,
   "metadata": {},
   "outputs": [],
   "source": [
    "def createTree(dataset, leafType=regLeaf, errType=regErr, ops=(1,4)):\n",
    "    '''\n",
    "    创建树\n",
    "    '''\n",
    "    #choosebestsplit获取最好的特征，和阈值\n",
    "    feature, val = choosebestsplit(dataset, leafType, errType, ops)\n",
    "    \n",
    "    if feature == None:\n",
    "        return val\n",
    "\n",
    "    retTree = {}\n",
    "    retTree['feature'] = feature\n",
    "    retTree['value'] = val\n",
    "    \n",
    "    #用binsplitdata分为左右两个子树\n",
    "    \n",
    "    #这里出问题了\n",
    "    #mat0, mat1 = binsplitdata(dataset, 1, 0.44181499999999996)\n",
    "    mat0, mat1 = binsplitdata(dataset, feature, val)\n",
    "    \n",
    "    #用迭代的方式，使左右子树进行迭代\n",
    "    retTree['left'] = createTree(mat0, leafType, errType, ops)\n",
    "    retTree['right'] = createTree(mat1, leafType, errType, ops)\n",
    "\n",
    "    return retTree"
   ]
  },
  {
   "cell_type": "code",
   "execution_count": 80,
   "metadata": {},
   "outputs": [],
   "source": [
    "dataMat = load_data()\n",
    "#将datafrme变成list集合\n",
    "dataMat =  dataMat.values.tolist()\n",
    "tree = createTree(dataMat)"
   ]
  },
  {
   "cell_type": "code",
   "execution_count": 81,
   "metadata": {},
   "outputs": [
    {
     "data": {
      "text/plain": [
       "{'feature': 1,\n",
       " 'value': 0.44181499999999996,\n",
       " 'left': {'feature': 1,\n",
       "  'value': 0.808177,\n",
       "  'left': 4.581648499999999,\n",
       "  'right': {'feature': 1,\n",
       "   'value': 0.6215229999999999,\n",
       "   'left': 4.233747156250001,\n",
       "   'right': 3.912047575757576}},\n",
       " 'right': {'feature': 1,\n",
       "  'value': 0.212575,\n",
       "  'left': 3.563709000000001,\n",
       "  'right': 3.1889351956521743}}"
      ]
     },
     "execution_count": 81,
     "metadata": {},
     "output_type": "execute_result"
    }
   ],
   "source": [
    "tree"
   ]
  },
  {
   "cell_type": "raw",
   "metadata": {},
   "source": [
    "2、后剪枝\n",
    " 需要训练集和测试集，构建的树要大且复杂，便于后面的剪枝\n",
    " 通过节点合并后的误差和不合并的误差"
   ]
  },
  {
   "cell_type": "code",
   "execution_count": 82,
   "metadata": {},
   "outputs": [],
   "source": [
    "def istree(obj):\n",
    "    '''\n",
    "    是否是字典类型，是就返回true，不是就返回false\n",
    "    '''\n",
    "    return (type(obj).__name__ == 'dict')"
   ]
  },
  {
   "cell_type": "code",
   "execution_count": 83,
   "metadata": {},
   "outputs": [],
   "source": [
    "def getmean(tree):\n",
    "    if istree(tree['right']):\n",
    "        #递归获取均值\n",
    "        tree['right'] = getmean(tree['right'])\n",
    "    if istree(tree['left']):\n",
    "        tree['left'] = getmean(tree['left'])\n",
    "    \n",
    "    m = (tree['right'] + tree['left']) / 2.0\n",
    "    return m"
   ]
  },
  {
   "cell_type": "code",
   "execution_count": 86,
   "metadata": {},
   "outputs": [],
   "source": [
    "def prune(tree,testData):\n",
    "    #测试集为空，直接对树相邻叶子结点进行求均值操作\n",
    "    if shape(testData)[0]==0:\n",
    "        return getMean(tree)\n",
    "    \n",
    "    #左右分支中有非叶子结点类型\n",
    "    if (isTree(tree['right']) or isTree(tree['left'])):\n",
    "        #利用当前树的最佳切分点和特征值对测试集进行树构建过程\n",
    "        lSet,rSet=binSplitDataSet(testData,tree['spInd'],tree['spval'])\n",
    "        \n",
    "    #左分支非叶子结点，递归利用测试数据的左子集对做分支剪枝\n",
    "    if isTree(tree['left']):\n",
    "        tree['left']=prune(tree['left'],lSet)\n",
    "        \n",
    "    #同理，右分支非叶子结点，递归利用测试数据的右子集对做分支剪枝\n",
    "    if isTree(tree['right']):\n",
    "        tree['right']=prune(tree['right'],lSet)\n",
    "        \n",
    "    #左右分支都是叶节点\n",
    "    if not isTree(tree['left']) and not isTree(tree['right']):\n",
    "        #利用该子树对应的切分点对测试数据进行切分(树构建)\n",
    "        lSet,rSet=binSplitDataSet(testData,tree['spInd'],tree['spval'])\n",
    "        \n",
    "        #如果这两个叶节点不合并，计算误差，即（实际值-预测值）的平方和\n",
    "        errorNoMerge=sum(np.power(lSet[:,-1]-tree['left'],2)) + sum(np.power(rSet[:,-1]-tree['right'],2))\n",
    "        #求两个叶结点值的均值\n",
    "        treeMean=(tree['left']+tree['right'])/ 2.0\n",
    "        #如果两个叶节点合并，计算合并后误差,即(真实值-合并后值）平方和\n",
    "        errorMerge=sum(power(testData[:,-1]-treeMean,2))\n",
    "       \n",
    "    #合并后误差小于合并前误差\n",
    "        if errorMerge<errorNoMerge:\n",
    "            #和并两个叶节点，返回合并后节点值\n",
    "            print('merging')\n",
    "            return treeMean\n",
    "        #否则不合并，返回该子树\n",
    "        else:return tree\n",
    "    #不合并，直接返回树\n",
    "    else:return tree"
   ]
  },
  {
   "cell_type": "code",
   "execution_count": null,
   "metadata": {},
   "outputs": [],
   "source": [
    "prune(tree, )"
   ]
  },
  {
   "cell_type": "code",
   "execution_count": null,
   "metadata": {},
   "outputs": [],
   "source": []
  }
 ],
 "metadata": {
  "kernelspec": {
   "display_name": "Python 3",
   "language": "python",
   "name": "python3"
  },
  "language_info": {
   "codemirror_mode": {
    "name": "ipython",
    "version": 3
   },
   "file_extension": ".py",
   "mimetype": "text/x-python",
   "name": "python",
   "nbconvert_exporter": "python",
   "pygments_lexer": "ipython3",
   "version": "3.7.0"
  }
 },
 "nbformat": 4,
 "nbformat_minor": 2
}
