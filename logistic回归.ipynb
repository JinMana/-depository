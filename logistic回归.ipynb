{
 "cells": [
  {
   "cell_type": "code",
   "execution_count": 174,
   "metadata": {},
   "outputs": [],
   "source": [
    "import pandas as pd\n",
    "import numpy as np\n",
    "import math\n",
    "import matplotlib.pyplot as plt\n",
    "import random\n",
    "import datetime"
   ]
  },
  {
   "cell_type": "code",
   "execution_count": 2,
   "metadata": {},
   "outputs": [],
   "source": [
    "def load_data():\n",
    "    dataMat = []\n",
    "    dataLabel = []\n",
    "    \n",
    "    #按空格分开\n",
    "    file = pd.read_csv(\"dataSet.txt\", header=None, sep=\"\\s+\")\n",
    "    b = np.ones((len(file),1))\n",
    "    dataMat = np.hstack((b, np.array(file[[0,1]])))\n",
    "    dataLabel = np.array(file[[2]])\n",
    "    #111\n",
    "    return dataMat, dataLabel"
   ]
  },
  {
   "cell_type": "code",
   "execution_count": 3,
   "metadata": {},
   "outputs": [],
   "source": [
    "def sigmoid(inX):\n",
    "    si = []\n",
    "    for i in range(len(inX)):\n",
    "        k = 1.0 / (1+math.exp(-inX[i]))\n",
    "        si.append(k)\n",
    "    return si"
   ]
  },
  {
   "cell_type": "code",
   "execution_count": 194,
   "metadata": {},
   "outputs": [],
   "source": [
    "def gradAscent(dataMat, dataLabel):\n",
    "    '''\n",
    "    计算梯度上升\n",
    "    '''\n",
    "    start_time = datetime.datetime.now()\n",
    "    #转换为矩阵形式\n",
    "    dataMat = np.mat(dataMat)\n",
    "    #为什么要转制？？\n",
    "    dataLabel = np.mat(dataLabel).transpose()\n",
    "    #步长\n",
    "    alpha = 0.01\n",
    "    \n",
    "    #迭代的次数\n",
    "    cishu = 500\n",
    "    \n",
    "    m,n = dataMat.shape\n",
    "    #初始化权重\n",
    "    weight = np.mat(np.ones((n, 1)))\n",
    "    \n",
    "    for i in range(cishu):\n",
    "        h = dataMat * weight    #(100, 3)*(3, 1) = 100*1\n",
    "        h = np.mat(sigmoid(h))\n",
    "#         print(h.shape)  #1,100\n",
    "        #转制\n",
    "#         print(dataMat.shape)\n",
    "#         print(dataLabel.shape)\n",
    "#         print(h.shape)  \n",
    "        \n",
    "        #计算error\n",
    "        error = (dataLabel - h)\n",
    "        #梯度更新权重\n",
    "        weight = weight + alpha*dataMat.transpose()*error.transpose()        #(3, 100)(1, 100)\n",
    "    end_time = datetime.datetime.now()\n",
    "    \n",
    "    print(\"运行时间是:\"+np.str(end_time-start_time))\n",
    "    \n",
    "    return weight "
   ]
  },
  {
   "cell_type": "code",
   "execution_count": 195,
   "metadata": {},
   "outputs": [],
   "source": [
    "#画图\n",
    "def plotBestfit():\n",
    "    '''\n",
    "    参数为权重\n",
    "    '''\n",
    "    dataMat, dataLabel = load_data()\n",
    "    weight = gradAscent(dataMat, dataLabel)\n",
    "#     print(weight.shape)  #(3, 1)\n",
    "#     print(type(weight))\n",
    "    \n",
    "    #将list转换为array\n",
    "    dataMat = np.array(dataMat)\n",
    "    xcoord1 = []\n",
    "    ycoord1 = []\n",
    "    xcoord2 = []\n",
    "    ycoord2 = []\n",
    "    \n",
    "    data_len = len(dataMat)\n",
    "    for i in range(data_len):\n",
    "        if(dataLabel[i] == 1):\n",
    "            xcoord1.append(dataMat[i, 1])\n",
    "            ycoord1.append(dataMat[i, 2])\n",
    "        if(dataLabel[i] == 0):\n",
    "            xcoord2.append(dataMat[i, 1])\n",
    "            ycoord2.append(dataMat[i, 2])\n",
    "            \n",
    "    #画图\n",
    "    fig = plt.figure()\n",
    "    ax = fig.add_subplot(111)\n",
    "    ax.scatter(xcoord1, ycoord1, s=30, c='red', marker='s')\n",
    "    ax.scatter(xcoord2, ycoord2, s=30, c='green')\n",
    "    \n",
    "    x = np.arange(-3.0, 3.0, 0.1)\n",
    "    y = np.array((-weight[0] - weight[1]*x)/weight[2])[0]\n",
    "    ax.plot(x, y)\n",
    "    plt.xlabel('x1')\n",
    "    plt.ylabel('x2')\n",
    "    plt.show()"
   ]
  },
  {
   "cell_type": "code",
   "execution_count": 196,
   "metadata": {},
   "outputs": [
    {
     "name": "stdout",
     "output_type": "stream",
     "text": [
      "运行时间是:0:00:00.351058\n"
     ]
    },
    {
     "data": {
      "image/png": "[encoded data removed]",
      "text/plain": [
       "<Figure size 432x288 with 1 Axes>"
      ]
     },
     "metadata": {
      "needs_background": "light"
     },
     "output_type": "display_data"
    }
   ],
   "source": [
    "plotBestfit()"
   ]
  },
  {
   "cell_type": "raw",
   "metadata": {},
   "source": [
    "梯度上升优化1\n",
    "算法改进：每次的梯度上升都要遍历所有的数据集\n",
    "下面的是采用随机梯度上升发"
   ]
  },
  {
   "cell_type": "code",
   "execution_count": 185,
   "metadata": {},
   "outputs": [],
   "source": [
    "def random_gradAcent(dataMat, dataLabel):\n",
    "    '''\n",
    "    随机梯度上升\n",
    "    '''\n",
    "    start_time = datetime.datetime.now()\n",
    "    #n, m分别为行和列\n",
    "    n, m = dataMat.shape\n",
    "    \n",
    "    alpha = 0.01\n",
    "    \n",
    "    weight = np.ones(m)   #这里不用（M,1）?\n",
    "    \n",
    "    #改变部分有两个，第一是迭代的次数，第二是迭代的部分，每次更新只更新dataMat的一行\n",
    "    \n",
    "    #这里只循环n次，上面的函数循环500次\n",
    "    for i in range(n):\n",
    "        #上面是直接dataMat*weight更新整个数据集\n",
    "        #so这里用dataMat[i]部分进行权值的更新\n",
    "        h = dataMat[i] *weight  #(3)\n",
    "        h = sigmoid(h)\n",
    "        \n",
    "        error = (dataLabel[i] - h)\n",
    "    \n",
    "        weight = weight + alpha*dataMat[i]*error   \n",
    "        \n",
    "    end_time = datetime.datetime.now()\n",
    "    print(\"运行时间是：\"+np.str(end_time-start_time))\n",
    "    return weight"
   ]
  },
  {
   "cell_type": "code",
   "execution_count": 186,
   "metadata": {},
   "outputs": [],
   "source": [
    "#画图2\n",
    "def plotBestfit2():\n",
    "    '''\n",
    "    参数为权重\n",
    "    '''\n",
    "    dataMat, dataLabel = load_data()\n",
    "    gradAscent(dataMat, dataLabel)\n",
    "    weight = random_gradAcent(dataMat, dataLabel)\n",
    "    #将list转换为array\n",
    "    dataMat = np.array(dataMat)\n",
    "    xcoord1 = []\n",
    "    ycoord1 = []\n",
    "    xcoord2 = []\n",
    "    ycoord2 = []\n",
    "    \n",
    "    data_len = len(dataMat)\n",
    "    for i in range(data_len):\n",
    "        if(dataLabel[i] == 1):\n",
    "            xcoord1.append(dataMat[i, 1])\n",
    "            ycoord1.append(dataMat[i, 2])\n",
    "        if(dataLabel[i] == 0):\n",
    "            xcoord2.append(dataMat[i, 1])\n",
    "            ycoord2.append(dataMat[i, 2])\n",
    "            \n",
    "    #画图\n",
    "    fig = plt.figure()\n",
    "    ax = fig.add_subplot(111)\n",
    "    ax.scatter(xcoord1, ycoord1, s=30, c='red', marker='s')\n",
    "    ax.scatter(xcoord2, ycoord2, s=30, c='green')\n",
    "    \n",
    "    x = np.arange(-3.0, 3.0, 0.1)\n",
    "    y = (-weight[0] - weight[1]*x)/weight[2]\n",
    "    ax.plot(x, y)\n",
    "    plt.xlabel('x1')\n",
    "    plt.ylabel('x2')\n",
    "    plt.show()"
   ]
  },
  {
   "cell_type": "code",
   "execution_count": 187,
   "metadata": {},
   "outputs": [
    {
     "name": "stdout",
     "output_type": "stream",
     "text": [
      "运行时间是：0:00:00.001969\n"
     ]
    },
    {
     "data": {
      "image/png": "[encoded data removed]",
      "text/plain": [
       "<Figure size 432x288 with 1 Axes>"
      ]
     },
     "metadata": {
      "needs_background": "light"
     },
     "output_type": "display_data"
    }
   ],
   "source": [
    "plotBestfit2()"
   ]
  },
  {
   "cell_type": "raw",
   "metadata": {},
   "source": [
    "梯度上升优化2\n",
    "避免来回波动，从而收敛到某个值，并且收敛速度也要足够快\n",
    "优化的地方：\n",
    "    上面的方法，迭代次数必须和行数相同，并且迭代的样本点是那一行数据\n",
    "    下面的方法，迭代次数任意设置，并且迭代的样本随机,步长随迭代次数改变，这也是随机梯度的一种"
   ]
  },
  {
   "cell_type": "code",
   "execution_count": 197,
   "metadata": {},
   "outputs": [],
   "source": [
    "def random_gradAcent2(dataMat, dataLabel, cishu=150):\n",
    "    '''\n",
    "    cishu指迭代的次数\n",
    "    '''\n",
    "    #计算时间\n",
    "    start_time = datetime.datetime.now()\n",
    "    \n",
    "    n, m = dataMat.shape\n",
    "    weight = np.ones(m)\n",
    "    \n",
    "    for i in range(cishu):\n",
    "        for j in range(n):\n",
    "            #步长改变\n",
    "            alpha = 4/(1.0+i+j) + 0.1\n",
    "            #随机获取样本\n",
    "            get_index = int(random.uniform(0,len(dataMat)))\n",
    "#             print(np.mat(dataMat[get_index]).shape)\n",
    "#             print(np.mat(weight).transpose().shape)\n",
    "            h = np.mat(dataMat[get_index]) * np.mat(weight).transpose()   #1*3 3*1\n",
    "            h = np.mat(sigmoid(h))   #1*1\n",
    "            error = dataLabel[get_index] - h\n",
    "            weight = weight + alpha*error.transpose()*(np.mat(dataMat[get_index]))\n",
    "            np.delete(np.array(dataMat), get_index, 0)   #删除出现过的样本\n",
    "    end_time  = datetime.datetime.now()\n",
    "    s_e_time = end_time - start_time\n",
    "    print(\"运行时间是：\"+np.str(s_e_time))\n",
    "    return weight"
   ]
  },
  {
   "cell_type": "code",
   "execution_count": 198,
   "metadata": {},
   "outputs": [],
   "source": [
    "#画图2\n",
    "def plotBestfit3():\n",
    "    '''\n",
    "    参数为权重\n",
    "    '''\n",
    "    \n",
    "    dataMat, dataLabel = load_data()\n",
    "    weight = random_gradAcent2(dataMat, dataLabel)\n",
    "    #将list转换为array\n",
    "    dataMat = np.array(dataMat)\n",
    "    xcoord1 = []\n",
    "    ycoord1 = []\n",
    "    xcoord2 = []\n",
    "    ycoord2 = []\n",
    "    \n",
    "    data_len = len(dataMat)\n",
    "    for i in range(data_len):\n",
    "        if(dataLabel[i] == 1):\n",
    "            xcoord1.append(dataMat[i, 1])\n",
    "            ycoord1.append(dataMat[i, 2])\n",
    "        if(dataLabel[i] == 0):\n",
    "            xcoord2.append(dataMat[i, 1])\n",
    "            ycoord2.append(dataMat[i, 2])\n",
    "            \n",
    "    #画图\n",
    "    fig = plt.figure()\n",
    "    ax = fig.add_subplot(111)\n",
    "    ax.scatter(xcoord1, ycoord1, s=30, c='red', marker='s')\n",
    "    ax.scatter(xcoord2, ycoord2, s=30, c='green')\n",
    "    \n",
    "    x = np.arange(-3.0, 3.0, 0.1)\n",
    "    y = (-np.array(weight)[0][0] - np.array(weight)[0][1]*x)/np.array(weight)[0][2]\n",
    "    ax.plot(x, y)\n",
    "    plt.xlabel('x1')\n",
    "    plt.ylabel('x2')\n",
    "    plt.show()"
   ]
  },
  {
   "cell_type": "code",
   "execution_count": 199,
   "metadata": {},
   "outputs": [
    {
     "name": "stdout",
     "output_type": "stream",
     "text": [
      "运行时间是：0:00:01.369358\n"
     ]
    },
    {
     "data": {
      "image/png": "[encoded data removed]",
      "text/plain": [
       "<Figure size 432x288 with 1 Axes>"
      ]
     },
     "metadata": {
      "needs_background": "light"
     },
     "output_type": "display_data"
    }
   ],
   "source": [
    "plotBestfit3()"
   ]
  },
  {
   "cell_type": "code",
   "execution_count": null,
   "metadata": {},
   "outputs": [],
   "source": []
  }
 ],
 "metadata": {
  "kernelspec": {
   "display_name": "Python 3",
   "language": "python",
   "name": "python3"
  },
  "language_info": {
   "codemirror_mode": {
    "name": "ipython",
    "version": 3
   },
   "file_extension": ".py",
   "mimetype": "text/x-python",
   "name": "python",
   "nbconvert_exporter": "python",
   "pygments_lexer": "ipython3",
   "version": "3.7.0"
  }
 },
 "nbformat": 4,
 "nbformat_minor": 2
}
