{
 "cells": [
  {
   "cell_type": "code",
   "execution_count": 192,
   "metadata": {},
   "outputs": [],
   "source": [
    "import pandas as pd\n",
    "import numpy as np\n",
    "import math\n",
    "import matplotlib.pyplot as plt\n",
    "import random"
   ]
  },
  {
   "cell_type": "code",
   "execution_count": 28,
   "metadata": {},
   "outputs": [],
   "source": [
    "def load_data():\n",
    "    dataMat = []\n",
    "    dataLabel = []\n",
    "    \n",
    "    #按空格分开\n",
    "    file = pd.read_csv(\"dataSet.txt\", header=None, sep=\"\\s+\")\n",
    "    b = np.ones((len(file),1))\n",
    "    dataMat = np.hstack((b, np.array(file[[0,1]])))\n",
    "    dataLabel = np.array(file[[2]])\n",
    "    #111\n",
    "    return dataMat, dataLabel"
   ]
  },
  {
   "cell_type": "code",
   "execution_count": 25,
   "metadata": {},
   "outputs": [],
   "source": [
    "def sigmoid(inX):\n",
    "    si = []\n",
    "    for i in range(len(inX)):\n",
    "        k = 1.0 / (1+math.exp(-inX[i]))\n",
    "        si.append(k)\n",
    "    return si"
   ]
  },
  {
   "cell_type": "code",
   "execution_count": 272,
   "metadata": {},
   "outputs": [],
   "source": [
    "def gradAscent(dataMat, dataLabel):\n",
    "    '''\n",
    "    计算梯度上升\n",
    "    '''\n",
    "    #转换为矩阵形式\n",
    "    dataMat = np.mat(dataMat)\n",
    "    #为什么要转制？？\n",
    "    dataLabel = np.mat(dataLabel).transpose()\n",
    "    #步长\n",
    "    alpha = 0.01\n",
    "    \n",
    "    #迭代的次数\n",
    "    cishu = 500\n",
    "    \n",
    "    m,n = dataMat.shape\n",
    "    #初始化权重\n",
    "    weight = np.mat(np.ones((n, 1)))\n",
    "    \n",
    "    for i in range(cishu):\n",
    "        h = dataMat * weight    #(100, 3)*(3, 1) = 100*1\n",
    "        h = np.mat(sigmoid(h))\n",
    "#         print(h.shape)  #1,100\n",
    "        #转制\n",
    "#         print(dataMat.shape)\n",
    "#         print(dataLabel.shape)\n",
    "#         print(h.shape)  \n",
    "        \n",
    "        #计算error\n",
    "        error = (dataLabel - h)\n",
    "        #梯度更新权重\n",
    "        weight = weight + alpha*dataMat.transpose()*error.transpose()        #(3, 100)(1, 100)\n",
    "    return weight "
   ]
  },
  {
   "cell_type": "code",
   "execution_count": 273,
   "metadata": {},
   "outputs": [],
   "source": [
    "#画图\n",
    "def plotBestfit():\n",
    "    '''\n",
    "    参数为权重\n",
    "    '''\n",
    "    dataMat, dataLabel = load_data()\n",
    "    gradAscent(dataMat, dataLabel)\n",
    "    weight = gradAscent(dataMat, dataLabel)\n",
    "#     print(weight.shape)  #(3, 1)\n",
    "#     print(type(weight))\n",
    "    \n",
    "    #将list转换为array\n",
    "    dataMat = np.array(dataMat)\n",
    "    xcoord1 = []\n",
    "    ycoord1 = []\n",
    "    xcoord2 = []\n",
    "    ycoord2 = []\n",
    "    \n",
    "    data_len = len(dataMat)\n",
    "    for i in range(data_len):\n",
    "        if(dataLabel[i] == 1):\n",
    "            xcoord1.append(dataMat[i, 1])\n",
    "            ycoord1.append(dataMat[i, 2])\n",
    "        if(dataLabel[i] == 0):\n",
    "            xcoord2.append(dataMat[i, 1])\n",
    "            ycoord2.append(dataMat[i, 2])\n",
    "            \n",
    "    #画图\n",
    "    fig = plt.figure()\n",
    "    ax = fig.add_subplot(111)\n",
    "    ax.scatter(xcoord1, ycoord1, s=30, c='red', marker='s')\n",
    "    ax.scatter(xcoord2, ycoord2, s=30, c='green')\n",
    "    \n",
    "    x = np.arange(-3.0, 3.0, 0.1)\n",
    "    y = np.array((-weight[0] - weight[1]*x)/weight[2])[0]\n",
    "    ax.plot(x, y)\n",
    "    plt.xlabel('x1')\n",
    "    plt.ylabel('x2')\n",
    "    plt.show()"
   ]
  },
  {
   "cell_type": "code",
   "execution_count": 274,
   "metadata": {},
   "outputs": [
    {
     "data": {
      "image/png": "[encoded data removed]",
      "text/plain": [
       "<Figure size 432x288 with 1 Axes>"
      ]
     },
     "metadata": {
      "needs_background": "light"
     },
     "output_type": "display_data"
    }
   ],
   "source": [
    "plotBestfit()"
   ]
  },
  {
   "cell_type": "raw",
   "metadata": {},
   "source": [
    "梯度上升优化1\n",
    "算法改进：每次的梯度上升都要遍历所有的数据集\n",
    "下面的是采用随机梯度上升发"
   ]
  },
  {
   "cell_type": "code",
   "execution_count": 184,
   "metadata": {},
   "outputs": [],
   "source": [
    "def random_gradAcent(dataMat, dataLabel):\n",
    "    '''\n",
    "    随机梯度上升\n",
    "    '''\n",
    "    #n, m分别为行和列\n",
    "    n, m = dataMat.shape\n",
    "    \n",
    "    alpha = 0.01\n",
    "    \n",
    "    weight = np.ones(m)   #这里不用（M,1）?\n",
    "    \n",
    "    #改变部分有两个，第一是迭代的次数，第二是迭代的部分，每次更新只更新dataMat的一行\n",
    "    \n",
    "    #这里只循环n次，上面的函数循环500次\n",
    "    for i in range(n):\n",
    "        #上面是直接dataMat*weight更新整个数据集\n",
    "        #so这里用dataMat[i]部分进行权值的更新\n",
    "        h = dataMat[i] *weight  #(3)\n",
    "        h = sigmoid(h)\n",
    "        \n",
    "        error = (dataLabel[i] - h)\n",
    "    \n",
    "        weight = weight + alpha*dataMat[i]*error   \n",
    "    \n",
    "    return weight"
   ]
  },
  {
   "cell_type": "code",
   "execution_count": 185,
   "metadata": {},
   "outputs": [],
   "source": [
    "#画图2\n",
    "def plotBestfit2():\n",
    "    '''\n",
    "    参数为权重\n",
    "    '''\n",
    "    dataMat, dataLabel = load_data()\n",
    "    gradAscent(dataMat, dataLabel)\n",
    "    weight = random_gradAcent(dataMat, dataLabel)\n",
    "    #将list转换为array\n",
    "    dataMat = np.array(dataMat)\n",
    "    xcoord1 = []\n",
    "    ycoord1 = []\n",
    "    xcoord2 = []\n",
    "    ycoord2 = []\n",
    "    \n",
    "    data_len = len(dataMat)\n",
    "    for i in range(data_len):\n",
    "        if(dataLabel[i] == 1):\n",
    "            xcoord1.append(dataMat[i, 1])\n",
    "            ycoord1.append(dataMat[i, 2])\n",
    "        if(dataLabel[i] == 0):\n",
    "            xcoord2.append(dataMat[i, 1])\n",
    "            ycoord2.append(dataMat[i, 2])\n",
    "            \n",
    "    #画图\n",
    "    fig = plt.figure()\n",
    "    ax = fig.add_subplot(111)\n",
    "    ax.scatter(xcoord1, ycoord1, s=30, c='red', marker='s')\n",
    "    ax.scatter(xcoord2, ycoord2, s=30, c='green')\n",
    "    \n",
    "    x = np.arange(-3.0, 3.0, 0.1)\n",
    "    y = (-weight[0] - weight[1]*x)/weight[2]\n",
    "    ax.plot(x, y)\n",
    "    plt.xlabel('x1')\n",
    "    plt.ylabel('x2')\n",
    "    plt.show()"
   ]
  },
  {
   "cell_type": "code",
   "execution_count": 186,
   "metadata": {},
   "outputs": [
    {
     "data": {
      "image/png": "[encoded data removed]",
      "text/plain": [
       "<Figure size 432x288 with 1 Axes>"
      ]
     },
     "metadata": {
      "needs_background": "light"
     },
     "output_type": "display_data"
    }
   ],
   "source": [
    "plotBestfit2()"
   ]
  },
  {
   "cell_type": "raw",
   "metadata": {},
   "source": [
    "梯度上升优化2\n",
    "避免来回波动，从而收敛到某个值，并且收敛速度也要足够快\n",
    "优化的地方：\n",
    "    上面的方法，迭代次数必须和行数相同，并且迭代的样本点是那一行数据\n",
    "    下面的方法，迭代次数任意设置，并且迭代的样本随机,步长随迭代次数改变，这也是随机梯度的一种"
   ]
  },
  {
   "cell_type": "code",
   "execution_count": 319,
   "metadata": {},
   "outputs": [],
   "source": [
    "def random_gradAcent2(dataMata, dataLabel, cishu=150):\n",
    "    '''\n",
    "    cishu指迭代的次数\n",
    "    '''\n",
    "    n, m = dataMat.shape\n",
    "    weight = np.ones(m)\n",
    "    \n",
    "    for i in range(cishu):\n",
    "        for j in range(n):\n",
    "            #步长改变\n",
    "            alpha = 4/(1.0+i+j) + 0.1\n",
    "            #随机获取样本\n",
    "            get_index = int(random.uniform(0,len(dataMat)))\n",
    "#             print(np.mat(dataMat[get_index]).shape)\n",
    "#             print(np.mat(weight).transpose().shape)\n",
    "            h = np.mat(dataMat[get_index]) * np.mat(weight).transpose()   #1*3 3*1\n",
    "            h = np.mat(sigmoid(h))   #1*1\n",
    "            error = dataLabel[get_index] - h\n",
    "            weight = weight + alpha*error.transpose()*(np.mat(dataMat[get_index]))\n",
    "    return weight"
   ]
  },
  {
   "cell_type": "code",
   "execution_count": 331,
   "metadata": {},
   "outputs": [],
   "source": [
    "dataMat, dataLabel = load_data()\n",
    "weight = random_gradAcent2(dataMat, dataLabel)\n",
    "w = np.array(weight)"
   ]
  },
  {
   "cell_type": "code",
   "execution_count": 332,
   "metadata": {},
   "outputs": [
    {
     "data": {
      "text/plain": [
       "array([23.99412882,  2.31354889, -3.25917561])"
      ]
     },
     "execution_count": 332,
     "metadata": {},
     "output_type": "execute_result"
    }
   ],
   "source": [
    "w[0]"
   ]
  },
  {
   "cell_type": "code",
   "execution_count": 324,
   "metadata": {},
   "outputs": [],
   "source": [
    "#画图2\n",
    "def plotBestfit3():\n",
    "    '''\n",
    "    参数为权重\n",
    "    '''\n",
    "    dataMat, dataLabel = load_data()\n",
    "    weight = random_gradAcent2(dataMat, dataLabel)\n",
    "    #将list转换为array\n",
    "    dataMat = np.array(dataMat)\n",
    "    xcoord1 = []\n",
    "    ycoord1 = []\n",
    "    xcoord2 = []\n",
    "    ycoord2 = []\n",
    "    \n",
    "    data_len = len(dataMat)\n",
    "    for i in range(data_len):\n",
    "        if(dataLabel[i] == 1):\n",
    "            xcoord1.append(dataMat[i, 1])\n",
    "            ycoord1.append(dataMat[i, 2])\n",
    "        if(dataLabel[i] == 0):\n",
    "            xcoord2.append(dataMat[i, 1])\n",
    "            ycoord2.append(dataMat[i, 2])\n",
    "            \n",
    "    #画图\n",
    "    fig = plt.figure()\n",
    "    ax = fig.add_subplot(111)\n",
    "    ax.scatter(xcoord1, ycoord1, s=30, c='red', marker='s')\n",
    "    ax.scatter(xcoord2, ycoord2, s=30, c='green')\n",
    "    \n",
    "    x = np.arange(-3.0, 3.0, 0.1)\n",
    "    y = (-weight[0] - weight[1]*x)/weight[2]\n",
    "#     ax.plot(x, y)\n",
    "#     plt.xlabel('x1')\n",
    "#     plt.ylabel('x2')\n",
    "#     plt.show()"
   ]
  },
  {
   "cell_type": "code",
   "execution_count": 325,
   "metadata": {},
   "outputs": [
    {
     "ename": "IndexError",
     "evalue": "index 1 is out of bounds for axis 0 with size 1",
     "output_type": "error",
     "traceback": [
      "\u001b[1;31m---------------------------------------------------------------------------\u001b[0m",
      "\u001b[1;31mIndexError\u001b[0m                                Traceback (most recent call last)",
      "\u001b[1;32m<ipython-input-325-07057054f4ee>\u001b[0m in \u001b[0;36m<module>\u001b[1;34m()\u001b[0m\n\u001b[1;32m----> 1\u001b[1;33m \u001b[0mplotBestfit3\u001b[0m\u001b[1;33m(\u001b[0m\u001b[1;33m)\u001b[0m\u001b[1;33m\u001b[0m\u001b[0m\n\u001b[0m",
      "\u001b[1;32m<ipython-input-324-f4515c07c933>\u001b[0m in \u001b[0;36mplotBestfit3\u001b[1;34m()\u001b[0m\n\u001b[0;32m     29\u001b[0m \u001b[1;33m\u001b[0m\u001b[0m\n\u001b[0;32m     30\u001b[0m     \u001b[0mx\u001b[0m \u001b[1;33m=\u001b[0m \u001b[0mnp\u001b[0m\u001b[1;33m.\u001b[0m\u001b[0marange\u001b[0m\u001b[1;33m(\u001b[0m\u001b[1;33m-\u001b[0m\u001b[1;36m3.0\u001b[0m\u001b[1;33m,\u001b[0m \u001b[1;36m3.0\u001b[0m\u001b[1;33m,\u001b[0m \u001b[1;36m0.1\u001b[0m\u001b[1;33m)\u001b[0m\u001b[1;33m\u001b[0m\u001b[0m\n\u001b[1;32m---> 31\u001b[1;33m     \u001b[0my\u001b[0m \u001b[1;33m=\u001b[0m \u001b[1;33m(\u001b[0m\u001b[1;33m-\u001b[0m\u001b[0mweight\u001b[0m\u001b[1;33m[\u001b[0m\u001b[1;36m0\u001b[0m\u001b[1;33m]\u001b[0m \u001b[1;33m-\u001b[0m \u001b[0mweight\u001b[0m\u001b[1;33m[\u001b[0m\u001b[1;36m1\u001b[0m\u001b[1;33m]\u001b[0m\u001b[1;33m*\u001b[0m\u001b[0mx\u001b[0m\u001b[1;33m)\u001b[0m\u001b[1;33m/\u001b[0m\u001b[0mweight\u001b[0m\u001b[1;33m[\u001b[0m\u001b[1;36m2\u001b[0m\u001b[1;33m]\u001b[0m\u001b[1;33m\u001b[0m\u001b[0m\n\u001b[0m\u001b[0;32m     32\u001b[0m \u001b[1;31m#     ax.plot(x, y)\u001b[0m\u001b[1;33m\u001b[0m\u001b[1;33m\u001b[0m\u001b[0m\n\u001b[0;32m     33\u001b[0m \u001b[1;31m#     plt.xlabel('x1')\u001b[0m\u001b[1;33m\u001b[0m\u001b[1;33m\u001b[0m\u001b[0m\n",
      "\u001b[1;32mD:\\Anaconda\\lib\\site-packages\\numpy\\matrixlib\\defmatrix.py\u001b[0m in \u001b[0;36m__getitem__\u001b[1;34m(self, index)\u001b[0m\n\u001b[0;32m    188\u001b[0m \u001b[1;33m\u001b[0m\u001b[0m\n\u001b[0;32m    189\u001b[0m         \u001b[1;32mtry\u001b[0m\u001b[1;33m:\u001b[0m\u001b[1;33m\u001b[0m\u001b[0m\n\u001b[1;32m--> 190\u001b[1;33m             \u001b[0mout\u001b[0m \u001b[1;33m=\u001b[0m \u001b[0mN\u001b[0m\u001b[1;33m.\u001b[0m\u001b[0mndarray\u001b[0m\u001b[1;33m.\u001b[0m\u001b[0m__getitem__\u001b[0m\u001b[1;33m(\u001b[0m\u001b[0mself\u001b[0m\u001b[1;33m,\u001b[0m \u001b[0mindex\u001b[0m\u001b[1;33m)\u001b[0m\u001b[1;33m\u001b[0m\u001b[0m\n\u001b[0m\u001b[0;32m    191\u001b[0m         \u001b[1;32mfinally\u001b[0m\u001b[1;33m:\u001b[0m\u001b[1;33m\u001b[0m\u001b[0m\n\u001b[0;32m    192\u001b[0m             \u001b[0mself\u001b[0m\u001b[1;33m.\u001b[0m\u001b[0m_getitem\u001b[0m \u001b[1;33m=\u001b[0m \u001b[1;32mFalse\u001b[0m\u001b[1;33m\u001b[0m\u001b[0m\n",
      "\u001b[1;31mIndexError\u001b[0m: index 1 is out of bounds for axis 0 with size 1"
     ]
    },
    {
     "data": {
      "image/png": "[encoded data removed]",
      "text/plain": [
       "<Figure size 432x288 with 1 Axes>"
      ]
     },
     "metadata": {
      "needs_background": "light"
     },
     "output_type": "display_data"
    }
   ],
   "source": [
    "plotBestfit3()"
   ]
  },
  {
   "cell_type": "code",
   "execution_count": null,
   "metadata": {},
   "outputs": [],
   "source": []
  }
 ],
 "metadata": {
  "kernelspec": {
   "display_name": "Python 3",
   "language": "python",
   "name": "python3"
  },
  "language_info": {
   "codemirror_mode": {
    "name": "ipython",
    "version": 3
   },
   "file_extension": ".py",
   "mimetype": "text/x-python",
   "name": "python",
   "nbconvert_exporter": "python",
   "pygments_lexer": "ipython3",
   "version": "3.7.0"
  }
 },
 "nbformat": 4,
 "nbformat_minor": 2
}
