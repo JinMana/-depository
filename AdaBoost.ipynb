{
 "cells": [
  {
   "cell_type": "code",
   "execution_count": 1,
   "metadata": {},
   "outputs": [],
   "source": [
    "import numpy as np\n",
    "import math"
   ]
  },
  {
   "cell_type": "code",
   "execution_count": 2,
   "metadata": {},
   "outputs": [],
   "source": [
    "def load_dataset():\n",
    "    dataMat = np.mat([[1. ,2.1],\n",
    "        [2. ,1.1],\n",
    "        [1.3,1. ],\n",
    "        [1. ,1. ],\n",
    "        [2. ,1. ]])\n",
    "    classLabel = [1.0,1.0,-1.0,-1.0,1.0]\n",
    "    return dataMat, classLabel"
   ]
  },
  {
   "cell_type": "code",
   "execution_count": 3,
   "metadata": {},
   "outputs": [],
   "source": [
    "dataMat, classLabel = load_dataset()"
   ]
  },
  {
   "cell_type": "code",
   "execution_count": 4,
   "metadata": {},
   "outputs": [
    {
     "data": {
      "text/plain": [
       "matrix([[1. , 2.1],\n",
       "        [2. , 1.1],\n",
       "        [1.3, 1. ],\n",
       "        [1. , 1. ],\n",
       "        [2. , 1. ]])"
      ]
     },
     "execution_count": 4,
     "metadata": {},
     "output_type": "execute_result"
    }
   ],
   "source": [
    "dataMat"
   ]
  },
  {
   "cell_type": "code",
   "execution_count": 5,
   "metadata": {},
   "outputs": [
    {
     "data": {
      "text/plain": [
       "[1.0, 1.0, -1.0, -1.0, 1.0]"
      ]
     },
     "execution_count": 5,
     "metadata": {},
     "output_type": "execute_result"
    }
   ],
   "source": [
    "classLabel"
   ]
  },
  {
   "cell_type": "code",
   "execution_count": 110,
   "metadata": {},
   "outputs": [],
   "source": [
    "def stumpClassify(dataMat, dimen, thre_val, thre_eq):\n",
    "    '''\n",
    "    单层决策树的过滤函数\n",
    "    '''\n",
    "#     print(dataMat)\n",
    "    m, n = dataMat.shape\n",
    "    retArray = np.ones((m, 1))   #初步设置都是分类正确的\n",
    "    \n",
    "    #决策树小于的分支\n",
    "    if(thre_eq == \"lt\"):\n",
    "        #小于的分支里面通过阈值设置不同的分支\n",
    "        retArray[dataMat[:, dimen] < thre_val]  = -1.0\n",
    "#         retArray[dataMat[0,dimen] <= thre_val] = -1.0\n",
    "        \n",
    "    #决策树大于的分支\n",
    "    else:\n",
    "        retArray[dataMat[:, dimen] > thre_val]  = -1.0\n",
    "#         retArray[dataMat[0,dimen] > thre_val] = -1.0\n",
    "    return retArray"
   ]
  },
  {
   "cell_type": "code",
   "execution_count": 111,
   "metadata": {},
   "outputs": [],
   "source": [
    "a = np.mat([[1. , 2.1],\n",
    " [2.  ,1.1],\n",
    " [1.3 ,1. ],\n",
    " [1. , 1. ],\n",
    " [2.,  1. ]])"
   ]
  },
  {
   "cell_type": "code",
   "execution_count": 112,
   "metadata": {},
   "outputs": [
    {
     "data": {
      "text/plain": [
       "matrix([[2.1],\n",
       "        [1.1],\n",
       "        [1. ],\n",
       "        [1. ],\n",
       "        [1. ]])"
      ]
     },
     "execution_count": 112,
     "metadata": {},
     "output_type": "execute_result"
    }
   ],
   "source": [
    "a[:,1]"
   ]
  },
  {
   "cell_type": "code",
   "execution_count": 116,
   "metadata": {},
   "outputs": [],
   "source": [
    "def buildStump(dataMat, classLabel, D):\n",
    "    '''\n",
    "    D是指数据集之前w\n",
    "    '''\n",
    "    dataMat = np.mat(dataMat)\n",
    "    classLabel = np.mat(classLabel).T\n",
    "    m, n = dataMat.shape\n",
    "    \n",
    "    #步长区间的总数,分成10个空间\n",
    "    num_step = 10.0\n",
    "    #最优决策树信息\n",
    "    best_Tree = {}\n",
    "    #单层决策树的预测结果\n",
    "    bestClassEst = np.mat(np.zeros((m, 1)))\n",
    "    \n",
    "    #最小错误率初始化为无穷，用于后面错误率的比较\n",
    "    min_error = np.float(\"inf\")\n",
    "    \n",
    "    #三个循环，1、遍历特征值 2、步长  3、大于或小于\n",
    "    for i in range(n):\n",
    "        #该特征中的最大值和最小值\n",
    "        range_min = dataMat[:,i].min()\n",
    "        range_max = dataMat[:,i].max()\n",
    "        \n",
    "        #计算每个步长空间的大小\n",
    "        step_size = (range_max-range_min) / num_step\n",
    "        for j in range(-1, np.int(num_step)+1):     #比总的区间大没有关系吗\n",
    "            #两种阈值的过滤形式\n",
    "            for inequal in [\"lt\", \"gt\"]:\n",
    "                #阈值计算\n",
    "                thre_val = range_min + np.float(j)*step_size\n",
    "                #调用上面那个函数进行预测\n",
    "                predict_val = stumpClassify(dataMat, i, thre_val, inequal)\n",
    "                \n",
    "                #初始化错误向量\n",
    "                errArray = np.ones((m, 1))\n",
    "                #分类错误的是1，分类正确的是0\n",
    "                errArray[predict_val == classLabel] = 0\n",
    "                \n",
    "                #计算加权错误率,即正确分类的样本点权重为0，错误分类的样本点权重为下面\n",
    "                weight_error = D.T*errArray  #(1,5),(5,1) = (1,1)\n",
    "                \n",
    "#                 print(\"split: dim %d, thresh %.2f,thresh inequal: %s, the weighted error is %.3f\" %(i,thre_val,inequal,weight_error))\n",
    "                \n",
    "                #如果错误率小于当前最小的错误率，把最小的错误率设为当前d \n",
    "                if(weight_error[0,0] < min_error):\n",
    "                    min_error = weight_error[0,0]\n",
    "                    bestClassEst = predict_val.copy()\n",
    "                    best_Tree['dim'] = i\n",
    "                    best_Tree['thre_val'] = thre_val\n",
    "                    best_Tree['ineq'] = inequal\n",
    "    \n",
    "    #返回最佳单决策树的字典、错误率和预测输出结果             \n",
    "    return best_Tree, min_error, bestClassEst"
   ]
  },
  {
   "cell_type": "code",
   "execution_count": 114,
   "metadata": {},
   "outputs": [
    {
     "name": "stdout",
     "output_type": "stream",
     "text": [
      "split: dim 0, thresh 0.90,thresh inequal: lt, the weighted error is 0.400\n",
      "split: dim 0, thresh 0.90,thresh inequal: gt, the weighted error is 0.600\n",
      "split: dim 0, thresh 1.00,thresh inequal: lt, the weighted error is 0.400\n",
      "split: dim 0, thresh 1.00,thresh inequal: gt, the weighted error is 0.600\n",
      "split: dim 0, thresh 1.10,thresh inequal: lt, the weighted error is 0.400\n",
      "split: dim 0, thresh 1.10,thresh inequal: gt, the weighted error is 0.600\n",
      "split: dim 0, thresh 1.20,thresh inequal: lt, the weighted error is 0.400\n",
      "split: dim 0, thresh 1.20,thresh inequal: gt, the weighted error is 0.600\n",
      "split: dim 0, thresh 1.30,thresh inequal: lt, the weighted error is 0.400\n",
      "split: dim 0, thresh 1.30,thresh inequal: gt, the weighted error is 0.800\n",
      "split: dim 0, thresh 1.40,thresh inequal: lt, the weighted error is 0.200\n",
      "split: dim 0, thresh 1.40,thresh inequal: gt, the weighted error is 0.800\n",
      "split: dim 0, thresh 1.50,thresh inequal: lt, the weighted error is 0.200\n",
      "split: dim 0, thresh 1.50,thresh inequal: gt, the weighted error is 0.800\n",
      "split: dim 0, thresh 1.60,thresh inequal: lt, the weighted error is 0.200\n",
      "split: dim 0, thresh 1.60,thresh inequal: gt, the weighted error is 0.800\n",
      "split: dim 0, thresh 1.70,thresh inequal: lt, the weighted error is 0.200\n",
      "split: dim 0, thresh 1.70,thresh inequal: gt, the weighted error is 0.800\n",
      "split: dim 0, thresh 1.80,thresh inequal: lt, the weighted error is 0.200\n",
      "split: dim 0, thresh 1.80,thresh inequal: gt, the weighted error is 0.800\n",
      "split: dim 0, thresh 1.90,thresh inequal: lt, the weighted error is 0.200\n",
      "split: dim 0, thresh 1.90,thresh inequal: gt, the weighted error is 0.800\n",
      "split: dim 0, thresh 2.00,thresh inequal: lt, the weighted error is 0.200\n",
      "split: dim 0, thresh 2.00,thresh inequal: gt, the weighted error is 0.400\n",
      "split: dim 1, thresh 0.89,thresh inequal: lt, the weighted error is 0.400\n",
      "split: dim 1, thresh 0.89,thresh inequal: gt, the weighted error is 0.600\n",
      "split: dim 1, thresh 1.00,thresh inequal: lt, the weighted error is 0.400\n",
      "split: dim 1, thresh 1.00,thresh inequal: gt, the weighted error is 0.800\n",
      "split: dim 1, thresh 1.11,thresh inequal: lt, the weighted error is 0.400\n",
      "split: dim 1, thresh 1.11,thresh inequal: gt, the weighted error is 0.600\n",
      "split: dim 1, thresh 1.22,thresh inequal: lt, the weighted error is 0.400\n",
      "split: dim 1, thresh 1.22,thresh inequal: gt, the weighted error is 0.600\n",
      "split: dim 1, thresh 1.33,thresh inequal: lt, the weighted error is 0.400\n",
      "split: dim 1, thresh 1.33,thresh inequal: gt, the weighted error is 0.600\n",
      "split: dim 1, thresh 1.44,thresh inequal: lt, the weighted error is 0.400\n",
      "split: dim 1, thresh 1.44,thresh inequal: gt, the weighted error is 0.600\n",
      "split: dim 1, thresh 1.55,thresh inequal: lt, the weighted error is 0.400\n",
      "split: dim 1, thresh 1.55,thresh inequal: gt, the weighted error is 0.600\n",
      "split: dim 1, thresh 1.66,thresh inequal: lt, the weighted error is 0.400\n",
      "split: dim 1, thresh 1.66,thresh inequal: gt, the weighted error is 0.600\n",
      "split: dim 1, thresh 1.77,thresh inequal: lt, the weighted error is 0.400\n",
      "split: dim 1, thresh 1.77,thresh inequal: gt, the weighted error is 0.600\n",
      "split: dim 1, thresh 1.88,thresh inequal: lt, the weighted error is 0.400\n",
      "split: dim 1, thresh 1.88,thresh inequal: gt, the weighted error is 0.600\n",
      "split: dim 1, thresh 1.99,thresh inequal: lt, the weighted error is 0.400\n",
      "split: dim 1, thresh 1.99,thresh inequal: gt, the weighted error is 0.600\n",
      "split: dim 1, thresh 2.10,thresh inequal: lt, the weighted error is 0.400\n",
      "split: dim 1, thresh 2.10,thresh inequal: gt, the weighted error is 0.400\n"
     ]
    },
    {
     "data": {
      "text/plain": [
       "({'dim': 0, 'thre_val': 1.4, 'ineq': 'lt'}, 0.2, array([[-1.],\n",
       "        [ 1.],\n",
       "        [-1.],\n",
       "        [-1.],\n",
       "        [ 1.]]))"
      ]
     },
     "execution_count": 114,
     "metadata": {},
     "output_type": "execute_result"
    }
   ],
   "source": [
    "dataMat, classLabel = load_dataset()\n",
    "D = np.mat(np.ones((5,1))/5)\n",
    "buildStump(dataMat, classLabel, D)"
   ]
  },
  {
   "cell_type": "code",
   "execution_count": 117,
   "metadata": {},
   "outputs": [],
   "source": [
    "def adaBoost(dataMat, classLabel, numIt = 40):\n",
    "    '''\n",
    "    adaboost算法\n",
    "    '''\n",
    "    #弱分类器信息表\n",
    "    weakClassArr = []\n",
    "    m, n = dataMat.shape\n",
    "    #初始化权重\n",
    "    D = np.mat(np.ones((m, 1))/m)\n",
    "    #累计估计值向量\n",
    "    aggClassEst = np.mat(np.zeros((m, 1)))\n",
    "    \n",
    "    #迭代次数\n",
    "    for i in range(numIt):\n",
    "        buildStump(dataMat, classLabel, D)\n",
    "        bestStump,error, classEst = buildStump(dataMat, classLabel, D)\n",
    "        print(i)\n",
    "        print(classEst.T)\n",
    "        #求系数alpha\n",
    "        alpha = np.float(0.5*math.log((1.0-error)/(np.max((error, 1e-16)))))\n",
    "        bestStump[\"alpha\"] = alpha\n",
    "        #将决策树存入到弱分类器中\n",
    "        weakClassArr.append(bestStump)\n",
    "        #更新权值D\n",
    "        expon = np.multiply(-1*alpha*np.mat(classLabel).T, classEst)\n",
    "        D = np.multiply(D, np.exp(expon))\n",
    "        D = D/sum(D)\n",
    "        #累加当前单层决策树的加权预测值\n",
    "        aggClassEst += alpha *classEst\n",
    "        \n",
    "        #求出错误分类的样本点个数\n",
    "        aggErrors = np.multiply(np.sign(aggClassEst) != np.mat(classLabel).T, np.ones((m, 1)))\n",
    "        \n",
    "        #计算错误率\n",
    "        rate = sum(aggErrors)/m\n",
    "        \n",
    "        if rate == 0.0:\n",
    "            break\n",
    "    return weakClassArr"
   ]
  },
  {
   "cell_type": "code",
   "execution_count": 118,
   "metadata": {},
   "outputs": [
    {
     "name": "stdout",
     "output_type": "stream",
     "text": [
      "0\n",
      "[[-1.  1. -1. -1.  1.]]\n",
      "1\n",
      "[[1. 1. 1. 1. 1.]]\n",
      "2\n",
      "[[ 1. -1. -1. -1. -1.]]\n"
     ]
    }
   ],
   "source": [
    "dataMat, classLabel = load_dataset()\n",
    "weakclassarr = adaBoost(dataMat, classLabel, 12)"
   ]
  },
  {
   "cell_type": "raw",
   "metadata": {},
   "source": [
    "结果预测"
   ]
  },
  {
   "cell_type": "code",
   "execution_count": 119,
   "metadata": {},
   "outputs": [],
   "source": [
    "def adaclassify(datatoclass,classarr):\n",
    "    datamat = np.mat(datatoclass)\n",
    "    m = datamat.shape[0]\n",
    "    aggre = np.mat(np.zeros((m,1)))\n",
    "    for i in range(len(datamat)):\n",
    "        classest = stumpClassify(datamat, classarr[i]['dim'], classarr[i]['thre_val'], classarr[i]['ineq'])\n",
    "        aggre += classarr[i]['alpha']*classest\n",
    "        print(aggre)\n",
    "    return np.sign(aggre)"
   ]
  },
  {
   "cell_type": "code",
   "execution_count": 120,
   "metadata": {},
   "outputs": [
    {
     "name": "stdout",
     "output_type": "stream",
     "text": [
      "[[-0.69314718]]\n"
     ]
    }
   ],
   "source": [
    "result = adaclassify([0,0], weakclassarr)"
   ]
  },
  {
   "cell_type": "code",
   "execution_count": 121,
   "metadata": {},
   "outputs": [
    {
     "data": {
      "text/plain": [
       "matrix([[-1.]])"
      ]
     },
     "execution_count": 121,
     "metadata": {},
     "output_type": "execute_result"
    }
   ],
   "source": [
    "result"
   ]
  },
  {
   "cell_type": "code",
   "execution_count": 123,
   "metadata": {},
   "outputs": [
    {
     "name": "stdout",
     "output_type": "stream",
     "text": [
      "[[ 0.69314718]\n",
      " [-0.69314718]]\n",
      "[[ 1.24245332]\n",
      " [-1.24245332]]\n"
     ]
    }
   ],
   "source": [
    "result = adaclassify([[5,5],[0,0]], weakclassarr)"
   ]
  },
  {
   "cell_type": "code",
   "execution_count": 124,
   "metadata": {},
   "outputs": [
    {
     "data": {
      "text/plain": [
       "matrix([[ 1.],\n",
       "        [-1.]])"
      ]
     },
     "execution_count": 124,
     "metadata": {},
     "output_type": "execute_result"
    }
   ],
   "source": [
    "result"
   ]
  }
 ],
 "metadata": {
  "kernelspec": {
   "display_name": "Python 3",
   "language": "python",
   "name": "python3"
  },
  "language_info": {
   "codemirror_mode": {
    "name": "ipython",
    "version": 3
   },
   "file_extension": ".py",
   "mimetype": "text/x-python",
   "name": "python",
   "nbconvert_exporter": "python",
   "pygments_lexer": "ipython3",
   "version": "3.7.0"
  }
 },
 "nbformat": 4,
 "nbformat_minor": 2
}
