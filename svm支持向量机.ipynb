{
 "cells": [
  {
   "cell_type": "raw",
   "metadata": {},
   "source": [
    "这个代码的维度出现了错乱"
   ]
  },
  {
   "cell_type": "code",
   "execution_count": 1,
   "metadata": {},
   "outputs": [],
   "source": [
    "import pandas as pd\n",
    "import numpy as np\n",
    "import math\n",
    "import matplotlib.pyplot as plt\n",
    "import random\n",
    "import datetime"
   ]
  },
  {
   "cell_type": "code",
   "execution_count": 2,
   "metadata": {},
   "outputs": [],
   "source": [
    "def load_data():\n",
    "    dataMat = []\n",
    "    dataLabel = []\n",
    "    \n",
    "    #按空格分开\n",
    "    file = pd.read_csv(\"dataSet.txt\", header=None, sep=\"\\s+\")\n",
    "    b = np.ones((len(file),1))\n",
    "    dataMat = np.hstack((b, np.array(file[[0,1]])))\n",
    "    dataLabel = np.array(file[[2]])\n",
    "    #111\n",
    "    return dataMat, dataLabel"
   ]
  },
  {
   "cell_type": "code",
   "execution_count": 3,
   "metadata": {},
   "outputs": [],
   "source": [
    "def selectJ(i, m):\n",
    "    '''\n",
    "    优化alphaJ\n",
    "    '''\n",
    "    j = i\n",
    "    if(j==i):\n",
    "        j = int(random.uniform(0, m))\n",
    "    return j"
   ]
  },
  {
   "cell_type": "code",
   "execution_count": 4,
   "metadata": {},
   "outputs": [],
   "source": [
    "def clipJ(aj,H, L):\n",
    "    '''\n",
    "    约束范围L<=alphaj <=H\n",
    "    '''\n",
    "    if aj>H:\n",
    "        aj = H\n",
    "    if L>aj:\n",
    "        aj = L\n",
    "    return aj"
   ]
  },
  {
   "cell_type": "code",
   "execution_count": 159,
   "metadata": {},
   "outputs": [],
   "source": [
    "def smoSimple(dataMat, dataLabel, C, toler, maxIter):\n",
    "    '''\n",
    "    简单的smo算法\n",
    "    '''\n",
    "    dataMat = np.mat(dataMat)\n",
    "    dataLabel = np.mat(dataLabel).transpose()\n",
    "    \n",
    "    #初始化b=0\n",
    "    b = 0\n",
    "    m, n = dataMat.shape\n",
    "    #建立一个m行1列的向量\n",
    "    alphas = np.mat(np.ones((m, 1)))\n",
    "    #迭代次数\n",
    "    iterm = 0\n",
    "    \n",
    "    while(iterm < maxIter):\n",
    "        #改变alpha的对数\n",
    "        alphachange = 0\n",
    "        #遍历样本\n",
    "        for i in range(m):\n",
    "            #计算svm的预测值,wx+b  ???\n",
    "            print((dataMat*dataMat[i,:].T).shape)\n",
    "            print((np.multiply(alphas, dataLabel).T).shape)\n",
    "            fxi = np.multiply(alphas, dataLabel).T*(dataMat*dataMat[i,:].T)+b\n",
    "            #计算误差\n",
    "            Ei = fxi - dataLabel.transpose()\n",
    "            #print(Ei.shape)   #(100, 1)\n",
    "            #判断是否满足KKT条件,y(wx+b)>1 y(wx+b)>1-toler就满足\n",
    "            if((sum(dataLabel[0,i]*Ei)<-toler) and (alphas[i]<C)) or ((sum(dataLabel[0,i]*Ei)>toler) and (alphas[i]>0)):\n",
    "                j = selectJ(i, m)\n",
    "                fxj = np.multiply(alphas, dataLabel).T * (dataMat*dataMat[j,:].T)+b\n",
    "                Ej = fxj - dataLabel.transpose()\n",
    "                alphaIold = alphas[i].copy()\n",
    "                alphaJold = alphas[j].copy()\n",
    "                \n",
    "                #求出相应的上下边界\n",
    "                k = np.array(dataLabel)\n",
    "                if(k[0][i] != k[0][j]):\n",
    "                    #把ai，aj限制在0，C之间\n",
    "                    L = np.max([0, (alphas[j] - alphas[i])[0,0]])  #比较这两个数的大小\n",
    "                    H = np.min([C, C + (alphas[j] - alphas[j])[0,0]])\n",
    "                else:\n",
    "                    \n",
    "                    L = np.max([0, (alphas[j]+alphas[i])[0,0]-C])\n",
    "                    H = np.min([C, (alphas[j]-alphas[j])[0,0]])\n",
    "                \n",
    "                if L==H:\n",
    "                    print(\"L==H\")\n",
    "                    continue\n",
    "                eta = 2.0*dataMat[i, :]*dataMat[j,:].T - dataMat[i,:]*dataMat[i,:].T - dataMat[j,:]*dataMat[j,:].T\n",
    "                \n",
    "                if eta >= 0:\n",
    "                    print(\"eta >= 0\")\n",
    "                    continue\n",
    "                \n",
    "#                 print(Ei-Ej)\n",
    "                alphas[j] -= dataLabel[0,j] * (Ei-Ej) / eta[0,0]\n",
    "                alphas[i] = clipJ(alphas[0,j], H, L)\n",
    "                \n",
    "                #如果改变后alphaj的变化不大，则退出本次循环\n",
    "                if(np.abs(alphas[j] - alphaJold) < 0.00001):\n",
    "                    print(\"j is moving enough\")\n",
    "                    continue\n",
    "                #否则计算alphai的值\n",
    "                alphas[i] += dataLabel[j]*dataLabel[i]*(alphaJold-alphas[j])\n",
    "                \n",
    "                #计算两个alpha下的b的值\n",
    "                b1 = b - Ei - dataLabel[i]*(alphas[i] - alphaIold)*dataMat[i,:]*dataMat[i,:].T - dataLabel[j]*\\\n",
    "                     (dataLabel[j] - alphaJold)*dataMat[j, :]*dataMat[j,:].T\n",
    "                b2 = b - Ej - dataLabel[i]*(alphas[i] - alphaIold)*dataMat[i,:]*dataMat[i,:].T - dataLabel[j]*\\\n",
    "                     (dataLabel[j] - alphaJold)*dataMat[j, :]*dataMat[j,:].T\n",
    "                \n",
    "                #如果0<alphai<c: b = b1\n",
    "                #如果0<alphaj<c: b = b2\n",
    "                #alphai, alphaj=0\\c\n",
    "                if(0<alphas[i]) and (C>alphas[i]):\n",
    "                    b = b1\n",
    "                elif(0<alphas[j]) and (C>alphas[j]):\n",
    "                    b = b2\n",
    "                else:\n",
    "                    b = (b1+b2) / 2.0\n",
    "                \n",
    "                print(\"iterm: %d i: %d, paird changed %d\" %(iterm, i, alphachange))\n",
    "        if(alphachange == 0 ):\n",
    "            iterm += 1\n",
    "        else:\n",
    "            iterm = 0\n",
    "        print(\"iterm number :%d\" %iterm)\n",
    "    return b, alphas"
   ]
  },
  {
   "cell_type": "code",
   "execution_count": 160,
   "metadata": {},
   "outputs": [
    {
     "name": "stdout",
     "output_type": "stream",
     "text": [
      "(100, 1)\n",
      "(100, 100)\n",
      "(100, 1)\n",
      "(100, 100)\n"
     ]
    },
    {
     "ename": "ValueError",
     "evalue": "non-broadcastable output operand with shape (1,1) doesn't match the broadcast shape (100,1)",
     "output_type": "error",
     "traceback": [
      "\u001b[1;31m---------------------------------------------------------------------------\u001b[0m",
      "\u001b[1;31mValueError\u001b[0m                                Traceback (most recent call last)",
      "\u001b[1;32m<ipython-input-160-c0648928798b>\u001b[0m in \u001b[0;36m<module>\u001b[1;34m()\u001b[0m\n\u001b[0;32m      1\u001b[0m \u001b[0mdataMat\u001b[0m\u001b[1;33m,\u001b[0m \u001b[0mdataLabel\u001b[0m \u001b[1;33m=\u001b[0m \u001b[0mload_data\u001b[0m\u001b[1;33m(\u001b[0m\u001b[1;33m)\u001b[0m\u001b[1;33m\u001b[0m\u001b[0m\n\u001b[1;32m----> 2\u001b[1;33m \u001b[0mb\u001b[0m\u001b[1;33m,\u001b[0m \u001b[0malphas\u001b[0m \u001b[1;33m=\u001b[0m \u001b[0msmoSimple\u001b[0m\u001b[1;33m(\u001b[0m\u001b[0mdataMat\u001b[0m\u001b[1;33m,\u001b[0m \u001b[0mdataLabel\u001b[0m\u001b[1;33m,\u001b[0m \u001b[1;36m0.6\u001b[0m\u001b[1;33m,\u001b[0m \u001b[1;36m0.001\u001b[0m\u001b[1;33m,\u001b[0m \u001b[1;36m40\u001b[0m\u001b[1;33m)\u001b[0m\u001b[1;33m\u001b[0m\u001b[0m\n\u001b[0m",
      "\u001b[1;32m<ipython-input-159-bd98fb779019>\u001b[0m in \u001b[0;36msmoSimple\u001b[1;34m(dataMat, dataLabel, C, toler, maxIter)\u001b[0m\n\u001b[0;32m     55\u001b[0m \u001b[1;33m\u001b[0m\u001b[0m\n\u001b[0;32m     56\u001b[0m \u001b[1;31m#                 print(Ei-Ej)\u001b[0m\u001b[1;33m\u001b[0m\u001b[1;33m\u001b[0m\u001b[0m\n\u001b[1;32m---> 57\u001b[1;33m                 \u001b[0malphas\u001b[0m\u001b[1;33m[\u001b[0m\u001b[0mj\u001b[0m\u001b[1;33m]\u001b[0m \u001b[1;33m-=\u001b[0m \u001b[0mdataLabel\u001b[0m\u001b[1;33m[\u001b[0m\u001b[1;36m0\u001b[0m\u001b[1;33m,\u001b[0m\u001b[0mj\u001b[0m\u001b[1;33m]\u001b[0m \u001b[1;33m*\u001b[0m \u001b[1;33m(\u001b[0m\u001b[0mEi\u001b[0m\u001b[1;33m-\u001b[0m\u001b[0mEj\u001b[0m\u001b[1;33m)\u001b[0m \u001b[1;33m/\u001b[0m \u001b[0meta\u001b[0m\u001b[1;33m[\u001b[0m\u001b[1;36m0\u001b[0m\u001b[1;33m,\u001b[0m\u001b[1;36m0\u001b[0m\u001b[1;33m]\u001b[0m\u001b[1;33m\u001b[0m\u001b[0m\n\u001b[0m\u001b[0;32m     58\u001b[0m                 \u001b[0malphas\u001b[0m\u001b[1;33m[\u001b[0m\u001b[0mi\u001b[0m\u001b[1;33m]\u001b[0m \u001b[1;33m=\u001b[0m \u001b[0mclipJ\u001b[0m\u001b[1;33m(\u001b[0m\u001b[0malphas\u001b[0m\u001b[1;33m[\u001b[0m\u001b[1;36m0\u001b[0m\u001b[1;33m,\u001b[0m\u001b[0mj\u001b[0m\u001b[1;33m]\u001b[0m\u001b[1;33m,\u001b[0m \u001b[0mH\u001b[0m\u001b[1;33m,\u001b[0m \u001b[0mL\u001b[0m\u001b[1;33m)\u001b[0m\u001b[1;33m\u001b[0m\u001b[0m\n\u001b[0;32m     59\u001b[0m \u001b[1;33m\u001b[0m\u001b[0m\n",
      "\u001b[1;31mValueError\u001b[0m: non-broadcastable output operand with shape (1,1) doesn't match the broadcast shape (100,1)"
     ]
    }
   ],
   "source": [
    "dataMat, dataLabel = load_data()\n",
    "b, alphas = smoSimple(dataMat, dataLabel, 0.6, 0.001, 40)"
   ]
  },
  {
   "cell_type": "code",
   "execution_count": 130,
   "metadata": {},
   "outputs": [],
   "source": [
    "b = np.mat([[1,2],[3,4]])"
   ]
  },
  {
   "cell_type": "code",
   "execution_count": 131,
   "metadata": {},
   "outputs": [],
   "source": [
    "c = b/0.5"
   ]
  },
  {
   "cell_type": "code",
   "execution_count": 132,
   "metadata": {},
   "outputs": [
    {
     "data": {
      "text/plain": [
       "matrix([[2., 4.],\n",
       "        [6., 8.]])"
      ]
     },
     "execution_count": 132,
     "metadata": {},
     "output_type": "execute_result"
    }
   ],
   "source": [
    "c"
   ]
  },
  {
   "cell_type": "code",
   "execution_count": null,
   "metadata": {},
   "outputs": [],
   "source": []
  }
 ],
 "metadata": {
  "kernelspec": {
   "display_name": "Python 3",
   "language": "python",
   "name": "python3"
  },
  "language_info": {
   "codemirror_mode": {
    "name": "ipython",
    "version": 3
   },
   "file_extension": ".py",
   "mimetype": "text/x-python",
   "name": "python",
   "nbconvert_exporter": "python",
   "pygments_lexer": "ipython3",
   "version": "3.7.0"
  }
 },
 "nbformat": 4,
 "nbformat_minor": 2
}
